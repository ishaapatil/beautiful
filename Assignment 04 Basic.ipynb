{
 "cells": [
  {
   "cell_type": "raw",
   "id": "d2f158e3",
   "metadata": {},
   "source": [
    "Ans:01\n",
    "[] is an empty list. \n"
   ]
  },
  {
   "cell_type": "raw",
   "id": "8ac3deb6",
   "metadata": {},
   "source": [
    "Ans:02\n",
    "spam[2] = 'hello' (Notice that the third value in a list is at index 2 because the first index is 0.)"
   ]
  },
  {
   "cell_type": "raw",
   "id": "c0f7eb37",
   "metadata": {},
   "source": [
    "Ans:03\n",
    "'d'  '3' * 2 is the string '33', which is passed to int() before being divided by 11. This evaluates to 3. Expressions can be used wherever values are used"
   ]
  },
  {
   "cell_type": "raw",
   "id": "d18bf728",
   "metadata": {},
   "source": [
    "Ans:04\n",
    "'d' Negative indexes count from the end."
   ]
  },
  {
   "cell_type": "raw",
   "id": "fe15e1f1",
   "metadata": {},
   "source": [
    "Ans:05\n",
    "['a', 'b']\n"
   ]
  },
  {
   "cell_type": "raw",
   "id": "14bc6c6b",
   "metadata": {},
   "source": [
    "Ans:06\n",
    "1\n"
   ]
  },
  {
   "cell_type": "raw",
   "id": "7beac034",
   "metadata": {},
   "source": [
    "Ans:07\n",
    "[3.14, 'cat', 11, 'cat', True, 99]"
   ]
  },
  {
   "cell_type": "raw",
   "id": "09dbd8d1",
   "metadata": {},
   "source": [
    "Ans:08\n",
    "[3.14, 11, 'cat', True]\n"
   ]
  },
  {
   "cell_type": "raw",
   "id": "c75525f1",
   "metadata": {},
   "source": [
    "Ans:09\n",
    "The operator for list concatenation is +, while the operator for replication is *. (This is the same as for strings.)"
   ]
  },
  {
   "cell_type": "raw",
   "id": "96a01179",
   "metadata": {},
   "source": [
    "Ans:10\n",
    "The only difference between append() and insert() is that insert function allows us to add a specific element at a specified index of the list unlike append() where we can add the element only at end of the list"
   ]
  },
  {
   "cell_type": "raw",
   "id": "cf28277b",
   "metadata": {},
   "source": [
    "Ans:11\n",
    "The methods are remove(), pop() and clear(). It helps to remove the very first given element matching from the list. \n",
    "The pop() method removes an element from the list based on the index given.\n",
    "The clear() method will remove all the elements present in the list."
   ]
  },
  {
   "cell_type": "raw",
   "id": "fa8aa41b",
   "metadata": {},
   "source": [
    "Ans:12\n",
    "Both lists and strings can be passed to len(), have indexes and slices, be used in for loops, be concatenated or replicated, \n",
    "and be used with the in and not in operators."
   ]
  },
  {
   "cell_type": "raw",
   "id": "4b793494",
   "metadata": {},
   "source": [
    "Ans:13\n",
    "Lists are mutable; they can have values added, removed, or changed. Tuples are immutable; they cannot be changed at all. Also, tuples are written using parentheses, ( and ), while lists use the square brackets, [ and ]."
   ]
  },
  {
   "cell_type": "raw",
   "id": "d6d58f71",
   "metadata": {},
   "source": [
    "Ans:14\n",
    "(42,) (The trailing comma is mandatory.)"
   ]
  },
  {
   "cell_type": "raw",
   "id": "271f7f27",
   "metadata": {},
   "source": [
    "Ans:15\n",
    "The tuple() and list() functions, respectively"
   ]
  },
  {
   "cell_type": "raw",
   "id": "9554e587",
   "metadata": {},
   "source": [
    "Ans:16\n",
    "They contain references to list values.\n"
   ]
  },
  {
   "cell_type": "raw",
   "id": "a30afb10",
   "metadata": {},
   "source": [
    "Ans:17\n",
    "The copy.copy() function will do a shallow copy of a list, while the copy.deepcopy() function will do a deep copy of a list. That is, only copy.deepcopy() will duplicate any lists inside the list.\n"
   ]
  }
 ],
 "metadata": {
  "kernelspec": {
   "display_name": "Python 3 (ipykernel)",
   "language": "python",
   "name": "python3"
  },
  "language_info": {
   "codemirror_mode": {
    "name": "ipython",
    "version": 3
   },
   "file_extension": ".py",
   "mimetype": "text/x-python",
   "name": "python",
   "nbconvert_exporter": "python",
   "pygments_lexer": "ipython3",
   "version": "3.9.12"
  }
 },
 "nbformat": 4,
 "nbformat_minor": 5
}
