{
 "cells": [
  {
   "cell_type": "raw",
   "id": "2f95fa29",
   "metadata": {},
   "source": [
    "Ans:01\n",
    "A relative path refers to a location that is relative to a current directory. Relative paths make use of two special symbols, a dot (.) and a double-dot (..), which translate into the current directory and the parent directory."
   ]
  },
  {
   "cell_type": "raw",
   "id": "dea88110",
   "metadata": {},
   "source": [
    "Ans:02\n",
    "An absolute path is defined as the specifying the location of a file or directory from the root directory(/).\n",
    "To write an absolute path-name:\n",
    "\n",
    "Start at the root directory ( / ) and work down.\n",
    "Write a slash ( / ) after every directory name (last one is optional)\n"
   ]
  },
  {
   "cell_type": "raw",
   "id": "7f874838",
   "metadata": {},
   "source": [
    "Ans:03\n",
    "The os.getcwd() function returns the current working directory.\n",
    "The os.chdir() function changes the current working directory."
   ]
  },
  {
   "cell_type": "raw",
   "id": "43af1b1a",
   "metadata": {},
   "source": [
    "Ans:04\n",
    " (.) is shorthand for “this directory”\n",
    "(..) is shorthand for “the parent directory’"
   ]
  },
  {
   "cell_type": "raw",
   "id": "3cdeffe8",
   "metadata": {},
   "source": [
    "Ans:05\n",
    "dir name = C:\\bacon\\eggs\n",
    "base (or file) name = spam.txt"
   ]
  },
  {
   "cell_type": "raw",
   "id": "02125022",
   "metadata": {},
   "source": [
    "Ans:06\n",
    "read/readlines, write, and append"
   ]
  },
  {
   "cell_type": "raw",
   "id": "d6ce95ec",
   "metadata": {},
   "source": [
    "Ans:07\n",
    "It overwrites the existing file and starts from scratch\n"
   ]
  },
  {
   "cell_type": "raw",
   "id": "ebf86a0d",
   "metadata": {},
   "source": [
    "Ans:08\n",
    "The read() method passes the entire file as a string.\n",
    "The readlines() method provides a list of string values - one string for each line of text."
   ]
  },
  {
   "cell_type": "raw",
   "id": "a66aef93",
   "metadata": {},
   "source": [
    "Ans:09\n",
    "Resembles a dictionary"
   ]
  },
  {
   "cell_type": "code",
   "execution_count": null,
   "id": "92383b13",
   "metadata": {},
   "outputs": [],
   "source": []
  }
 ],
 "metadata": {
  "kernelspec": {
   "display_name": "Python 3 (ipykernel)",
   "language": "python",
   "name": "python3"
  },
  "language_info": {
   "codemirror_mode": {
    "name": "ipython",
    "version": 3
   },
   "file_extension": ".py",
   "mimetype": "text/x-python",
   "name": "python",
   "nbconvert_exporter": "python",
   "pygments_lexer": "ipython3",
   "version": "3.9.12"
  }
 },
 "nbformat": 4,
 "nbformat_minor": 5
}
